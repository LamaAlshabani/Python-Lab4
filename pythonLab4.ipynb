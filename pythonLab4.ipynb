{
 "cells": [
  {
   "cell_type": "code",
   "execution_count": 112,
   "id": "af998e23",
   "metadata": {},
   "outputs": [],
   "source": [
    "def result(num):\n",
    "    for x in range(1 , num+1 ) :\n",
    "        pointer = num\n",
    "        num-=1\n",
    "        while pointer != 0:\n",
    "            print(pointer,end=\" \")\n",
    "            pointer -=1\n",
    "        print(\"\\n\")\n",
    "\n",
    "        \n",
    "      "
   ]
  },
  {
   "cell_type": "code",
   "execution_count": 113,
   "id": "a6e24589",
   "metadata": {},
   "outputs": [
    {
     "name": "stdout",
     "output_type": "stream",
     "text": [
      "5 4 3 2 1 \n",
      "\n",
      "4 3 2 1 \n",
      "\n",
      "3 2 1 \n",
      "\n",
      "2 1 \n",
      "\n",
      "1 \n",
      "\n"
     ]
    }
   ],
   "source": [
    " result(5)"
   ]
  },
  {
   "cell_type": "code",
   "execution_count": null,
   "id": "e6fd5f63",
   "metadata": {},
   "outputs": [],
   "source": []
  }
 ],
 "metadata": {
  "kernelspec": {
   "display_name": "Python 3 (ipykernel)",
   "language": "python",
   "name": "python3"
  },
  "language_info": {
   "codemirror_mode": {
    "name": "ipython",
    "version": 3
   },
   "file_extension": ".py",
   "mimetype": "text/x-python",
   "name": "python",
   "nbconvert_exporter": "python",
   "pygments_lexer": "ipython3",
   "version": "3.10.9"
  }
 },
 "nbformat": 4,
 "nbformat_minor": 5
}
