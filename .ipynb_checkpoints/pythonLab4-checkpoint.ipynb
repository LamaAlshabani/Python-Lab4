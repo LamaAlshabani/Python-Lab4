{
 "cells": [
  {
   "cell_type": "code",
   "execution_count": 1,
   "id": "af998e23",
   "metadata": {},
   "outputs": [],
   "source": [
    "def result(num):\n",
    "    lst=[]\n",
    "    index=0\n",
    "    while num != 0 and num > 0:\n",
    "        lst.append(num) \n",
    "        num -=1\n",
    "    while index > len(lst) :\n",
    "        print(lst[index])\n",
    "        index+=1\n",
    "      "
   ]
  },
  {
   "cell_type": "code",
   "execution_count": 2,
   "id": "a6e24589",
   "metadata": {},
   "outputs": [],
   "source": [
    " result(7)"
   ]
  }
 ],
 "metadata": {
  "kernelspec": {
   "display_name": "Python 3 (ipykernel)",
   "language": "python",
   "name": "python3"
  },
  "language_info": {
   "codemirror_mode": {
    "name": "ipython",
    "version": 3
   },
   "file_extension": ".py",
   "mimetype": "text/x-python",
   "name": "python",
   "nbconvert_exporter": "python",
   "pygments_lexer": "ipython3",
   "version": "3.10.9"
  }
 },
 "nbformat": 4,
 "nbformat_minor": 5
}
